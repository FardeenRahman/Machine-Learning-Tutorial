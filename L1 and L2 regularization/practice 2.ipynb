{
 "cells": [
  {
   "cell_type": "code",
   "execution_count": 122,
   "id": "c64bd462",
   "metadata": {},
   "outputs": [],
   "source": [
    "import pandas as pd\n",
    "import warnings\n",
    "warnings.filterwarnings('ignore')"
   ]
  },
  {
   "cell_type": "code",
   "execution_count": 123,
   "id": "2246e851",
   "metadata": {},
   "outputs": [
    {
     "data": {
      "text/html": [
       "<div>\n",
       "<style scoped>\n",
       "    .dataframe tbody tr th:only-of-type {\n",
       "        vertical-align: middle;\n",
       "    }\n",
       "\n",
       "    .dataframe tbody tr th {\n",
       "        vertical-align: top;\n",
       "    }\n",
       "\n",
       "    .dataframe thead th {\n",
       "        text-align: right;\n",
       "    }\n",
       "</style>\n",
       "<table border=\"1\" class=\"dataframe\">\n",
       "  <thead>\n",
       "    <tr style=\"text-align: right;\">\n",
       "      <th></th>\n",
       "      <th>Suburb</th>\n",
       "      <th>Address</th>\n",
       "      <th>Rooms</th>\n",
       "      <th>Type</th>\n",
       "      <th>Price</th>\n",
       "      <th>Method</th>\n",
       "      <th>SellerG</th>\n",
       "      <th>Date</th>\n",
       "      <th>Distance</th>\n",
       "      <th>Postcode</th>\n",
       "      <th>...</th>\n",
       "      <th>Bathroom</th>\n",
       "      <th>Car</th>\n",
       "      <th>Landsize</th>\n",
       "      <th>BuildingArea</th>\n",
       "      <th>YearBuilt</th>\n",
       "      <th>CouncilArea</th>\n",
       "      <th>Lattitude</th>\n",
       "      <th>Longtitude</th>\n",
       "      <th>Regionname</th>\n",
       "      <th>Propertycount</th>\n",
       "    </tr>\n",
       "  </thead>\n",
       "  <tbody>\n",
       "    <tr>\n",
       "      <th>0</th>\n",
       "      <td>Abbotsford</td>\n",
       "      <td>68 Studley St</td>\n",
       "      <td>2</td>\n",
       "      <td>h</td>\n",
       "      <td>NaN</td>\n",
       "      <td>SS</td>\n",
       "      <td>Jellis</td>\n",
       "      <td>3/09/2016</td>\n",
       "      <td>2.5</td>\n",
       "      <td>3067.0</td>\n",
       "      <td>...</td>\n",
       "      <td>1.0</td>\n",
       "      <td>1.0</td>\n",
       "      <td>126.0</td>\n",
       "      <td>NaN</td>\n",
       "      <td>NaN</td>\n",
       "      <td>Yarra City Council</td>\n",
       "      <td>-37.8014</td>\n",
       "      <td>144.9958</td>\n",
       "      <td>Northern Metropolitan</td>\n",
       "      <td>4019.0</td>\n",
       "    </tr>\n",
       "    <tr>\n",
       "      <th>1</th>\n",
       "      <td>Abbotsford</td>\n",
       "      <td>85 Turner St</td>\n",
       "      <td>2</td>\n",
       "      <td>h</td>\n",
       "      <td>1480000.0</td>\n",
       "      <td>S</td>\n",
       "      <td>Biggin</td>\n",
       "      <td>3/12/2016</td>\n",
       "      <td>2.5</td>\n",
       "      <td>3067.0</td>\n",
       "      <td>...</td>\n",
       "      <td>1.0</td>\n",
       "      <td>1.0</td>\n",
       "      <td>202.0</td>\n",
       "      <td>NaN</td>\n",
       "      <td>NaN</td>\n",
       "      <td>Yarra City Council</td>\n",
       "      <td>-37.7996</td>\n",
       "      <td>144.9984</td>\n",
       "      <td>Northern Metropolitan</td>\n",
       "      <td>4019.0</td>\n",
       "    </tr>\n",
       "    <tr>\n",
       "      <th>2</th>\n",
       "      <td>Abbotsford</td>\n",
       "      <td>25 Bloomburg St</td>\n",
       "      <td>2</td>\n",
       "      <td>h</td>\n",
       "      <td>1035000.0</td>\n",
       "      <td>S</td>\n",
       "      <td>Biggin</td>\n",
       "      <td>4/02/2016</td>\n",
       "      <td>2.5</td>\n",
       "      <td>3067.0</td>\n",
       "      <td>...</td>\n",
       "      <td>1.0</td>\n",
       "      <td>0.0</td>\n",
       "      <td>156.0</td>\n",
       "      <td>79.0</td>\n",
       "      <td>1900.0</td>\n",
       "      <td>Yarra City Council</td>\n",
       "      <td>-37.8079</td>\n",
       "      <td>144.9934</td>\n",
       "      <td>Northern Metropolitan</td>\n",
       "      <td>4019.0</td>\n",
       "    </tr>\n",
       "    <tr>\n",
       "      <th>3</th>\n",
       "      <td>Abbotsford</td>\n",
       "      <td>18/659 Victoria St</td>\n",
       "      <td>3</td>\n",
       "      <td>u</td>\n",
       "      <td>NaN</td>\n",
       "      <td>VB</td>\n",
       "      <td>Rounds</td>\n",
       "      <td>4/02/2016</td>\n",
       "      <td>2.5</td>\n",
       "      <td>3067.0</td>\n",
       "      <td>...</td>\n",
       "      <td>2.0</td>\n",
       "      <td>1.0</td>\n",
       "      <td>0.0</td>\n",
       "      <td>NaN</td>\n",
       "      <td>NaN</td>\n",
       "      <td>Yarra City Council</td>\n",
       "      <td>-37.8114</td>\n",
       "      <td>145.0116</td>\n",
       "      <td>Northern Metropolitan</td>\n",
       "      <td>4019.0</td>\n",
       "    </tr>\n",
       "    <tr>\n",
       "      <th>4</th>\n",
       "      <td>Abbotsford</td>\n",
       "      <td>5 Charles St</td>\n",
       "      <td>3</td>\n",
       "      <td>h</td>\n",
       "      <td>1465000.0</td>\n",
       "      <td>SP</td>\n",
       "      <td>Biggin</td>\n",
       "      <td>4/03/2017</td>\n",
       "      <td>2.5</td>\n",
       "      <td>3067.0</td>\n",
       "      <td>...</td>\n",
       "      <td>2.0</td>\n",
       "      <td>0.0</td>\n",
       "      <td>134.0</td>\n",
       "      <td>150.0</td>\n",
       "      <td>1900.0</td>\n",
       "      <td>Yarra City Council</td>\n",
       "      <td>-37.8093</td>\n",
       "      <td>144.9944</td>\n",
       "      <td>Northern Metropolitan</td>\n",
       "      <td>4019.0</td>\n",
       "    </tr>\n",
       "  </tbody>\n",
       "</table>\n",
       "<p>5 rows × 21 columns</p>\n",
       "</div>"
      ],
      "text/plain": [
       "       Suburb             Address  Rooms Type      Price Method SellerG  \\\n",
       "0  Abbotsford       68 Studley St      2    h        NaN     SS  Jellis   \n",
       "1  Abbotsford        85 Turner St      2    h  1480000.0      S  Biggin   \n",
       "2  Abbotsford     25 Bloomburg St      2    h  1035000.0      S  Biggin   \n",
       "3  Abbotsford  18/659 Victoria St      3    u        NaN     VB  Rounds   \n",
       "4  Abbotsford        5 Charles St      3    h  1465000.0     SP  Biggin   \n",
       "\n",
       "        Date  Distance  Postcode  ...  Bathroom  Car  Landsize  BuildingArea  \\\n",
       "0  3/09/2016       2.5    3067.0  ...       1.0  1.0     126.0           NaN   \n",
       "1  3/12/2016       2.5    3067.0  ...       1.0  1.0     202.0           NaN   \n",
       "2  4/02/2016       2.5    3067.0  ...       1.0  0.0     156.0          79.0   \n",
       "3  4/02/2016       2.5    3067.0  ...       2.0  1.0       0.0           NaN   \n",
       "4  4/03/2017       2.5    3067.0  ...       2.0  0.0     134.0         150.0   \n",
       "\n",
       "   YearBuilt         CouncilArea Lattitude  Longtitude             Regionname  \\\n",
       "0        NaN  Yarra City Council  -37.8014    144.9958  Northern Metropolitan   \n",
       "1        NaN  Yarra City Council  -37.7996    144.9984  Northern Metropolitan   \n",
       "2     1900.0  Yarra City Council  -37.8079    144.9934  Northern Metropolitan   \n",
       "3        NaN  Yarra City Council  -37.8114    145.0116  Northern Metropolitan   \n",
       "4     1900.0  Yarra City Council  -37.8093    144.9944  Northern Metropolitan   \n",
       "\n",
       "  Propertycount  \n",
       "0        4019.0  \n",
       "1        4019.0  \n",
       "2        4019.0  \n",
       "3        4019.0  \n",
       "4        4019.0  \n",
       "\n",
       "[5 rows x 21 columns]"
      ]
     },
     "execution_count": 123,
     "metadata": {},
     "output_type": "execute_result"
    }
   ],
   "source": [
    "data = pd.read_csv('Melbourne_housing_FULL.csv')\n",
    "data.head()"
   ]
  },
  {
   "cell_type": "code",
   "execution_count": 124,
   "id": "dd343b67",
   "metadata": {},
   "outputs": [],
   "source": [
    "col_use = ['Suburb', 'Rooms', 'Type', 'Price', 'Method', 'SellerG', 'Distance', 'Bedroom2', 'Bathroom', 'Car',  'Landsize', 'BuildingArea', 'CouncilArea', 'Regionname', 'Propertycount']\n",
    "data = data[col_use]"
   ]
  },
  {
   "cell_type": "code",
   "execution_count": 125,
   "id": "62963ca3",
   "metadata": {},
   "outputs": [
    {
     "data": {
      "text/html": [
       "<div>\n",
       "<style scoped>\n",
       "    .dataframe tbody tr th:only-of-type {\n",
       "        vertical-align: middle;\n",
       "    }\n",
       "\n",
       "    .dataframe tbody tr th {\n",
       "        vertical-align: top;\n",
       "    }\n",
       "\n",
       "    .dataframe thead th {\n",
       "        text-align: right;\n",
       "    }\n",
       "</style>\n",
       "<table border=\"1\" class=\"dataframe\">\n",
       "  <thead>\n",
       "    <tr style=\"text-align: right;\">\n",
       "      <th></th>\n",
       "      <th>Suburb</th>\n",
       "      <th>Rooms</th>\n",
       "      <th>Type</th>\n",
       "      <th>Price</th>\n",
       "      <th>Method</th>\n",
       "      <th>SellerG</th>\n",
       "      <th>Distance</th>\n",
       "      <th>Bedroom2</th>\n",
       "      <th>Bathroom</th>\n",
       "      <th>Car</th>\n",
       "      <th>Landsize</th>\n",
       "      <th>BuildingArea</th>\n",
       "      <th>CouncilArea</th>\n",
       "      <th>Regionname</th>\n",
       "      <th>Propertycount</th>\n",
       "    </tr>\n",
       "  </thead>\n",
       "  <tbody>\n",
       "    <tr>\n",
       "      <th>0</th>\n",
       "      <td>Abbotsford</td>\n",
       "      <td>2</td>\n",
       "      <td>h</td>\n",
       "      <td>NaN</td>\n",
       "      <td>SS</td>\n",
       "      <td>Jellis</td>\n",
       "      <td>2.5</td>\n",
       "      <td>2.0</td>\n",
       "      <td>1.0</td>\n",
       "      <td>1.0</td>\n",
       "      <td>126.0</td>\n",
       "      <td>NaN</td>\n",
       "      <td>Yarra City Council</td>\n",
       "      <td>Northern Metropolitan</td>\n",
       "      <td>4019.0</td>\n",
       "    </tr>\n",
       "    <tr>\n",
       "      <th>1</th>\n",
       "      <td>Abbotsford</td>\n",
       "      <td>2</td>\n",
       "      <td>h</td>\n",
       "      <td>1480000.0</td>\n",
       "      <td>S</td>\n",
       "      <td>Biggin</td>\n",
       "      <td>2.5</td>\n",
       "      <td>2.0</td>\n",
       "      <td>1.0</td>\n",
       "      <td>1.0</td>\n",
       "      <td>202.0</td>\n",
       "      <td>NaN</td>\n",
       "      <td>Yarra City Council</td>\n",
       "      <td>Northern Metropolitan</td>\n",
       "      <td>4019.0</td>\n",
       "    </tr>\n",
       "    <tr>\n",
       "      <th>2</th>\n",
       "      <td>Abbotsford</td>\n",
       "      <td>2</td>\n",
       "      <td>h</td>\n",
       "      <td>1035000.0</td>\n",
       "      <td>S</td>\n",
       "      <td>Biggin</td>\n",
       "      <td>2.5</td>\n",
       "      <td>2.0</td>\n",
       "      <td>1.0</td>\n",
       "      <td>0.0</td>\n",
       "      <td>156.0</td>\n",
       "      <td>79.0</td>\n",
       "      <td>Yarra City Council</td>\n",
       "      <td>Northern Metropolitan</td>\n",
       "      <td>4019.0</td>\n",
       "    </tr>\n",
       "    <tr>\n",
       "      <th>3</th>\n",
       "      <td>Abbotsford</td>\n",
       "      <td>3</td>\n",
       "      <td>u</td>\n",
       "      <td>NaN</td>\n",
       "      <td>VB</td>\n",
       "      <td>Rounds</td>\n",
       "      <td>2.5</td>\n",
       "      <td>3.0</td>\n",
       "      <td>2.0</td>\n",
       "      <td>1.0</td>\n",
       "      <td>0.0</td>\n",
       "      <td>NaN</td>\n",
       "      <td>Yarra City Council</td>\n",
       "      <td>Northern Metropolitan</td>\n",
       "      <td>4019.0</td>\n",
       "    </tr>\n",
       "    <tr>\n",
       "      <th>4</th>\n",
       "      <td>Abbotsford</td>\n",
       "      <td>3</td>\n",
       "      <td>h</td>\n",
       "      <td>1465000.0</td>\n",
       "      <td>SP</td>\n",
       "      <td>Biggin</td>\n",
       "      <td>2.5</td>\n",
       "      <td>3.0</td>\n",
       "      <td>2.0</td>\n",
       "      <td>0.0</td>\n",
       "      <td>134.0</td>\n",
       "      <td>150.0</td>\n",
       "      <td>Yarra City Council</td>\n",
       "      <td>Northern Metropolitan</td>\n",
       "      <td>4019.0</td>\n",
       "    </tr>\n",
       "  </tbody>\n",
       "</table>\n",
       "</div>"
      ],
      "text/plain": [
       "       Suburb  Rooms Type      Price Method SellerG  Distance  Bedroom2  \\\n",
       "0  Abbotsford      2    h        NaN     SS  Jellis       2.5       2.0   \n",
       "1  Abbotsford      2    h  1480000.0      S  Biggin       2.5       2.0   \n",
       "2  Abbotsford      2    h  1035000.0      S  Biggin       2.5       2.0   \n",
       "3  Abbotsford      3    u        NaN     VB  Rounds       2.5       3.0   \n",
       "4  Abbotsford      3    h  1465000.0     SP  Biggin       2.5       3.0   \n",
       "\n",
       "   Bathroom  Car  Landsize  BuildingArea         CouncilArea  \\\n",
       "0       1.0  1.0     126.0           NaN  Yarra City Council   \n",
       "1       1.0  1.0     202.0           NaN  Yarra City Council   \n",
       "2       1.0  0.0     156.0          79.0  Yarra City Council   \n",
       "3       2.0  1.0       0.0           NaN  Yarra City Council   \n",
       "4       2.0  0.0     134.0         150.0  Yarra City Council   \n",
       "\n",
       "              Regionname  Propertycount  \n",
       "0  Northern Metropolitan         4019.0  \n",
       "1  Northern Metropolitan         4019.0  \n",
       "2  Northern Metropolitan         4019.0  \n",
       "3  Northern Metropolitan         4019.0  \n",
       "4  Northern Metropolitan         4019.0  "
      ]
     },
     "execution_count": 125,
     "metadata": {},
     "output_type": "execute_result"
    }
   ],
   "source": [
    "data.head()"
   ]
  },
  {
   "cell_type": "code",
   "execution_count": 126,
   "id": "a25178b3",
   "metadata": {},
   "outputs": [
    {
     "data": {
      "text/plain": [
       "Suburb            351\n",
       "Rooms              12\n",
       "Type                3\n",
       "Price            2871\n",
       "Method              9\n",
       "SellerG           388\n",
       "Distance          215\n",
       "Bedroom2           15\n",
       "Bathroom           11\n",
       "Car                15\n",
       "Landsize         1684\n",
       "BuildingArea      740\n",
       "CouncilArea        33\n",
       "Regionname          8\n",
       "Propertycount     342\n",
       "dtype: int64"
      ]
     },
     "execution_count": 126,
     "metadata": {},
     "output_type": "execute_result"
    }
   ],
   "source": [
    "data.nunique()"
   ]
  },
  {
   "cell_type": "code",
   "execution_count": 127,
   "id": "afa9159b",
   "metadata": {},
   "outputs": [
    {
     "data": {
      "text/plain": [
       "(34857, 15)"
      ]
     },
     "execution_count": 127,
     "metadata": {},
     "output_type": "execute_result"
    }
   ],
   "source": [
    "data.shape"
   ]
  },
  {
   "cell_type": "code",
   "execution_count": 128,
   "id": "ccf18d48",
   "metadata": {
    "scrolled": true
   },
   "outputs": [
    {
     "data": {
      "text/plain": [
       "Suburb               0\n",
       "Rooms                0\n",
       "Type                 0\n",
       "Price             7610\n",
       "Method               0\n",
       "SellerG              0\n",
       "Distance             1\n",
       "Bedroom2          8217\n",
       "Bathroom          8226\n",
       "Car               8728\n",
       "Landsize         11810\n",
       "BuildingArea     21115\n",
       "CouncilArea          3\n",
       "Regionname           3\n",
       "Propertycount        3\n",
       "dtype: int64"
      ]
     },
     "execution_count": 128,
     "metadata": {},
     "output_type": "execute_result"
    }
   ],
   "source": [
    "data.isna().sum()"
   ]
  },
  {
   "cell_type": "code",
   "execution_count": 129,
   "id": "3dd370e5",
   "metadata": {},
   "outputs": [],
   "source": [
    "cols = ['Bedroom2', 'Bathroom', 'Car', 'Propertycount', 'Distance']\n",
    "data[cols] = data[cols].fillna(0)\n",
    "data[cols] = data[cols].fillna(0)"
   ]
  },
  {
   "cell_type": "code",
   "execution_count": 130,
   "id": "13ebdf19",
   "metadata": {},
   "outputs": [],
   "source": [
    "data['Landsize'] = data['Landsize'].fillna(data.Landsize.mean())\n",
    "data['BuildingArea'] = data['BuildingArea'].fillna(data.BuildingArea.mean())"
   ]
  },
  {
   "cell_type": "code",
   "execution_count": 131,
   "id": "ff303ffc",
   "metadata": {},
   "outputs": [],
   "source": [
    "data.dropna(inplace = True)\n"
   ]
  },
  {
   "cell_type": "code",
   "execution_count": 132,
   "id": "bc5d09e4",
   "metadata": {},
   "outputs": [
    {
     "data": {
      "text/plain": [
       "(27244, 15)"
      ]
     },
     "execution_count": 132,
     "metadata": {},
     "output_type": "execute_result"
    }
   ],
   "source": [
    "data.shape"
   ]
  },
  {
   "cell_type": "code",
   "execution_count": 133,
   "id": "4af18e86",
   "metadata": {},
   "outputs": [],
   "source": [
    "data = pd.get_dummies(data, drop_first = True)"
   ]
  },
  {
   "cell_type": "code",
   "execution_count": 134,
   "id": "42bb4d9d",
   "metadata": {},
   "outputs": [
    {
     "data": {
      "text/html": [
       "<div>\n",
       "<style scoped>\n",
       "    .dataframe tbody tr th:only-of-type {\n",
       "        vertical-align: middle;\n",
       "    }\n",
       "\n",
       "    .dataframe tbody tr th {\n",
       "        vertical-align: top;\n",
       "    }\n",
       "\n",
       "    .dataframe thead th {\n",
       "        text-align: right;\n",
       "    }\n",
       "</style>\n",
       "<table border=\"1\" class=\"dataframe\">\n",
       "  <thead>\n",
       "    <tr style=\"text-align: right;\">\n",
       "      <th></th>\n",
       "      <th>Rooms</th>\n",
       "      <th>Price</th>\n",
       "      <th>Distance</th>\n",
       "      <th>Bedroom2</th>\n",
       "      <th>Bathroom</th>\n",
       "      <th>Car</th>\n",
       "      <th>Landsize</th>\n",
       "      <th>BuildingArea</th>\n",
       "      <th>Propertycount</th>\n",
       "      <th>Suburb_Aberfeldie</th>\n",
       "      <th>...</th>\n",
       "      <th>CouncilArea_Wyndham City Council</th>\n",
       "      <th>CouncilArea_Yarra City Council</th>\n",
       "      <th>CouncilArea_Yarra Ranges Shire Council</th>\n",
       "      <th>Regionname_Eastern Victoria</th>\n",
       "      <th>Regionname_Northern Metropolitan</th>\n",
       "      <th>Regionname_Northern Victoria</th>\n",
       "      <th>Regionname_South-Eastern Metropolitan</th>\n",
       "      <th>Regionname_Southern Metropolitan</th>\n",
       "      <th>Regionname_Western Metropolitan</th>\n",
       "      <th>Regionname_Western Victoria</th>\n",
       "    </tr>\n",
       "  </thead>\n",
       "  <tbody>\n",
       "    <tr>\n",
       "      <th>1</th>\n",
       "      <td>2</td>\n",
       "      <td>1480000.0</td>\n",
       "      <td>2.5</td>\n",
       "      <td>2.0</td>\n",
       "      <td>1.0</td>\n",
       "      <td>1.0</td>\n",
       "      <td>202.0</td>\n",
       "      <td>160.2564</td>\n",
       "      <td>4019.0</td>\n",
       "      <td>False</td>\n",
       "      <td>...</td>\n",
       "      <td>False</td>\n",
       "      <td>True</td>\n",
       "      <td>False</td>\n",
       "      <td>False</td>\n",
       "      <td>True</td>\n",
       "      <td>False</td>\n",
       "      <td>False</td>\n",
       "      <td>False</td>\n",
       "      <td>False</td>\n",
       "      <td>False</td>\n",
       "    </tr>\n",
       "    <tr>\n",
       "      <th>2</th>\n",
       "      <td>2</td>\n",
       "      <td>1035000.0</td>\n",
       "      <td>2.5</td>\n",
       "      <td>2.0</td>\n",
       "      <td>1.0</td>\n",
       "      <td>0.0</td>\n",
       "      <td>156.0</td>\n",
       "      <td>79.0000</td>\n",
       "      <td>4019.0</td>\n",
       "      <td>False</td>\n",
       "      <td>...</td>\n",
       "      <td>False</td>\n",
       "      <td>True</td>\n",
       "      <td>False</td>\n",
       "      <td>False</td>\n",
       "      <td>True</td>\n",
       "      <td>False</td>\n",
       "      <td>False</td>\n",
       "      <td>False</td>\n",
       "      <td>False</td>\n",
       "      <td>False</td>\n",
       "    </tr>\n",
       "    <tr>\n",
       "      <th>4</th>\n",
       "      <td>3</td>\n",
       "      <td>1465000.0</td>\n",
       "      <td>2.5</td>\n",
       "      <td>3.0</td>\n",
       "      <td>2.0</td>\n",
       "      <td>0.0</td>\n",
       "      <td>134.0</td>\n",
       "      <td>150.0000</td>\n",
       "      <td>4019.0</td>\n",
       "      <td>False</td>\n",
       "      <td>...</td>\n",
       "      <td>False</td>\n",
       "      <td>True</td>\n",
       "      <td>False</td>\n",
       "      <td>False</td>\n",
       "      <td>True</td>\n",
       "      <td>False</td>\n",
       "      <td>False</td>\n",
       "      <td>False</td>\n",
       "      <td>False</td>\n",
       "      <td>False</td>\n",
       "    </tr>\n",
       "    <tr>\n",
       "      <th>5</th>\n",
       "      <td>3</td>\n",
       "      <td>850000.0</td>\n",
       "      <td>2.5</td>\n",
       "      <td>3.0</td>\n",
       "      <td>2.0</td>\n",
       "      <td>1.0</td>\n",
       "      <td>94.0</td>\n",
       "      <td>160.2564</td>\n",
       "      <td>4019.0</td>\n",
       "      <td>False</td>\n",
       "      <td>...</td>\n",
       "      <td>False</td>\n",
       "      <td>True</td>\n",
       "      <td>False</td>\n",
       "      <td>False</td>\n",
       "      <td>True</td>\n",
       "      <td>False</td>\n",
       "      <td>False</td>\n",
       "      <td>False</td>\n",
       "      <td>False</td>\n",
       "      <td>False</td>\n",
       "    </tr>\n",
       "    <tr>\n",
       "      <th>6</th>\n",
       "      <td>4</td>\n",
       "      <td>1600000.0</td>\n",
       "      <td>2.5</td>\n",
       "      <td>3.0</td>\n",
       "      <td>1.0</td>\n",
       "      <td>2.0</td>\n",
       "      <td>120.0</td>\n",
       "      <td>142.0000</td>\n",
       "      <td>4019.0</td>\n",
       "      <td>False</td>\n",
       "      <td>...</td>\n",
       "      <td>False</td>\n",
       "      <td>True</td>\n",
       "      <td>False</td>\n",
       "      <td>False</td>\n",
       "      <td>True</td>\n",
       "      <td>False</td>\n",
       "      <td>False</td>\n",
       "      <td>False</td>\n",
       "      <td>False</td>\n",
       "      <td>False</td>\n",
       "    </tr>\n",
       "  </tbody>\n",
       "</table>\n",
       "<p>5 rows × 745 columns</p>\n",
       "</div>"
      ],
      "text/plain": [
       "   Rooms      Price  Distance  Bedroom2  Bathroom  Car  Landsize  \\\n",
       "1      2  1480000.0       2.5       2.0       1.0  1.0     202.0   \n",
       "2      2  1035000.0       2.5       2.0       1.0  0.0     156.0   \n",
       "4      3  1465000.0       2.5       3.0       2.0  0.0     134.0   \n",
       "5      3   850000.0       2.5       3.0       2.0  1.0      94.0   \n",
       "6      4  1600000.0       2.5       3.0       1.0  2.0     120.0   \n",
       "\n",
       "   BuildingArea  Propertycount  Suburb_Aberfeldie  ...  \\\n",
       "1      160.2564         4019.0              False  ...   \n",
       "2       79.0000         4019.0              False  ...   \n",
       "4      150.0000         4019.0              False  ...   \n",
       "5      160.2564         4019.0              False  ...   \n",
       "6      142.0000         4019.0              False  ...   \n",
       "\n",
       "   CouncilArea_Wyndham City Council  CouncilArea_Yarra City Council  \\\n",
       "1                             False                            True   \n",
       "2                             False                            True   \n",
       "4                             False                            True   \n",
       "5                             False                            True   \n",
       "6                             False                            True   \n",
       "\n",
       "   CouncilArea_Yarra Ranges Shire Council  Regionname_Eastern Victoria  \\\n",
       "1                                   False                        False   \n",
       "2                                   False                        False   \n",
       "4                                   False                        False   \n",
       "5                                   False                        False   \n",
       "6                                   False                        False   \n",
       "\n",
       "   Regionname_Northern Metropolitan  Regionname_Northern Victoria  \\\n",
       "1                              True                         False   \n",
       "2                              True                         False   \n",
       "4                              True                         False   \n",
       "5                              True                         False   \n",
       "6                              True                         False   \n",
       "\n",
       "   Regionname_South-Eastern Metropolitan  Regionname_Southern Metropolitan  \\\n",
       "1                                  False                             False   \n",
       "2                                  False                             False   \n",
       "4                                  False                             False   \n",
       "5                                  False                             False   \n",
       "6                                  False                             False   \n",
       "\n",
       "   Regionname_Western Metropolitan  Regionname_Western Victoria  \n",
       "1                            False                        False  \n",
       "2                            False                        False  \n",
       "4                            False                        False  \n",
       "5                            False                        False  \n",
       "6                            False                        False  \n",
       "\n",
       "[5 rows x 745 columns]"
      ]
     },
     "execution_count": 134,
     "metadata": {},
     "output_type": "execute_result"
    }
   ],
   "source": [
    "data.head()"
   ]
  },
  {
   "cell_type": "code",
   "execution_count": 135,
   "id": "205e0aac",
   "metadata": {},
   "outputs": [
    {
     "data": {
      "text/plain": [
       "(27244, 745)"
      ]
     },
     "execution_count": 135,
     "metadata": {},
     "output_type": "execute_result"
    }
   ],
   "source": [
    "data.shape"
   ]
  },
  {
   "cell_type": "code",
   "execution_count": 136,
   "id": "142e62be",
   "metadata": {},
   "outputs": [
    {
     "name": "stdout",
     "output_type": "stream",
     "text": [
      "['Rooms', 'Price', 'Distance', 'Bedroom2', 'Bathroom', 'Car', 'Landsize', 'BuildingArea', 'Propertycount', 'Suburb_Aberfeldie', 'Suburb_Airport West', 'Suburb_Albanvale', 'Suburb_Albert Park', 'Suburb_Albion', 'Suburb_Alphington', 'Suburb_Altona', 'Suburb_Altona Meadows', 'Suburb_Altona North', 'Suburb_Ardeer', 'Suburb_Armadale', 'Suburb_Ascot Vale', 'Suburb_Ashburton', 'Suburb_Ashwood', 'Suburb_Aspendale', 'Suburb_Aspendale Gardens', 'Suburb_Attwood', 'Suburb_Avondale Heights', 'Suburb_Bacchus Marsh', 'Suburb_Balaclava', 'Suburb_Balwyn', 'Suburb_Balwyn North', 'Suburb_Bayswater', 'Suburb_Bayswater North', 'Suburb_Beaconsfield', 'Suburb_Beaconsfield Upper', 'Suburb_Beaumaris', 'Suburb_Bellfield', 'Suburb_Bentleigh', 'Suburb_Bentleigh East', 'Suburb_Berwick', 'Suburb_Black Rock', 'Suburb_Blackburn', 'Suburb_Blackburn North', 'Suburb_Blackburn South', 'Suburb_Bonbeach', 'Suburb_Boronia', 'Suburb_Botanic Ridge', 'Suburb_Box Hill', 'Suburb_Braybrook', 'Suburb_Briar Hill', 'Suburb_Brighton', 'Suburb_Brighton East', 'Suburb_Broadmeadows', 'Suburb_Brookfield', 'Suburb_Brooklyn', 'Suburb_Brunswick', 'Suburb_Brunswick East', 'Suburb_Brunswick West', 'Suburb_Bulla', 'Suburb_Bulleen', 'Suburb_Bullengarook', 'Suburb_Bundoora', 'Suburb_Burnley', 'Suburb_Burnside', 'Suburb_Burnside Heights', 'Suburb_Burwood', 'Suburb_Burwood East', 'Suburb_Cairnlea', 'Suburb_Camberwell', 'Suburb_Campbellfield', 'Suburb_Canterbury', 'Suburb_Carlton', 'Suburb_Carlton North', 'Suburb_Carnegie', 'Suburb_Caroline Springs', 'Suburb_Carrum', 'Suburb_Carrum Downs', 'Suburb_Caulfield', 'Suburb_Caulfield East', 'Suburb_Caulfield North', 'Suburb_Caulfield South', 'Suburb_Chadstone', 'Suburb_Chelsea', 'Suburb_Chelsea Heights', 'Suburb_Cheltenham', 'Suburb_Chirnside Park', 'Suburb_Clarinda', 'Suburb_Clayton', 'Suburb_Clayton South', 'Suburb_Clifton Hill', 'Suburb_Clyde North', 'Suburb_Coburg', 'Suburb_Coburg North', 'Suburb_Coldstream', 'Suburb_Collingwood', 'Suburb_Coolaroo', 'Suburb_Craigieburn', 'Suburb_Cranbourne', 'Suburb_Cranbourne East', 'Suburb_Cranbourne North', 'Suburb_Cranbourne West', 'Suburb_Cremorne', 'Suburb_Croydon', 'Suburb_Croydon Hills', 'Suburb_Croydon North', 'Suburb_Croydon South', 'Suburb_Dallas', 'Suburb_Dandenong', 'Suburb_Dandenong North', 'Suburb_Darley', 'Suburb_Deepdene', 'Suburb_Deer Park', 'Suburb_Delahey', 'Suburb_Derrimut', 'Suburb_Diamond Creek', 'Suburb_Diggers Rest', 'Suburb_Dingley Village', 'Suburb_Docklands', 'Suburb_Doncaster', 'Suburb_Doncaster East', 'Suburb_Donvale', 'Suburb_Doreen', 'Suburb_Doveton', 'Suburb_Eaglemont', 'Suburb_East Melbourne', 'Suburb_Edithvale', 'Suburb_Elsternwick', 'Suburb_Eltham', 'Suburb_Eltham North', 'Suburb_Elwood', 'Suburb_Emerald', 'Suburb_Endeavour Hills', 'Suburb_Epping', 'Suburb_Essendon', 'Suburb_Essendon North', 'Suburb_Essendon West', 'Suburb_Eumemmerring', 'Suburb_Eynesbury', 'Suburb_Fairfield', 'Suburb_Fawkner', 'Suburb_Ferntree Gully', 'Suburb_Ferny Creek', 'Suburb_Fitzroy', 'Suburb_Fitzroy North', 'Suburb_Flemington', 'Suburb_Footscray', 'Suburb_Forest Hill', 'Suburb_Frankston', 'Suburb_Frankston North', 'Suburb_Frankston South', 'Suburb_Gardenvale', 'Suburb_Gisborne', 'Suburb_Gisborne South', 'Suburb_Gladstone Park', 'Suburb_Glen Huntly', 'Suburb_Glen Iris', 'Suburb_Glen Waverley', 'Suburb_Glenroy', 'Suburb_Gowanbrae', 'Suburb_Greensborough', 'Suburb_Greenvale', 'Suburb_Hadfield', 'Suburb_Hallam', 'Suburb_Hampton', 'Suburb_Hampton East', 'Suburb_Hampton Park', 'Suburb_Hawthorn', 'Suburb_Hawthorn East', 'Suburb_Healesville', 'Suburb_Heatherton', 'Suburb_Heathmont', 'Suburb_Heidelberg', 'Suburb_Heidelberg Heights', 'Suburb_Heidelberg West', 'Suburb_Highett', 'Suburb_Hillside', 'Suburb_Hoppers Crossing', 'Suburb_Hughesdale', 'Suburb_Huntingdale', 'Suburb_Hurstbridge', 'Suburb_Ivanhoe', 'Suburb_Ivanhoe East', 'Suburb_Jacana', 'Suburb_Kalkallo', 'Suburb_Kealba', 'Suburb_Keilor', 'Suburb_Keilor Downs', 'Suburb_Keilor East', 'Suburb_Keilor Lodge', 'Suburb_Keilor Park', 'Suburb_Kensington', 'Suburb_Kew', 'Suburb_Kew East', 'Suburb_Keysborough', 'Suburb_Kilsyth', 'Suburb_Kings Park', 'Suburb_Kingsbury', 'Suburb_Kingsville', 'Suburb_Knoxfield', 'Suburb_Kooyong', 'Suburb_Kurunjang', 'Suburb_Lalor', 'Suburb_Langwarrin', 'Suburb_Laverton', 'Suburb_Lilydale', 'Suburb_Lower Plenty', 'Suburb_Lynbrook', 'Suburb_Lysterfield', 'Suburb_MacLeod', 'Suburb_Maidstone', 'Suburb_Malvern', 'Suburb_Malvern East', 'Suburb_Maribyrnong', 'Suburb_McKinnon', 'Suburb_Meadow Heights', 'Suburb_Melbourne', 'Suburb_Melton', 'Suburb_Melton South', 'Suburb_Melton West', 'Suburb_Mentone', 'Suburb_Mernda', 'Suburb_Mickleham', 'Suburb_Middle Park', 'Suburb_Mill Park', 'Suburb_Mitcham', 'Suburb_Monbulk', 'Suburb_Mont Albert', 'Suburb_Montmorency', 'Suburb_Montrose', 'Suburb_Moonee Ponds', 'Suburb_Moorabbin', 'Suburb_Mooroolbark', 'Suburb_Mordialloc', 'Suburb_Mount Evelyn', 'Suburb_Mount Waverley', 'Suburb_Mulgrave', 'Suburb_Murrumbeena', 'Suburb_Narre Warren', 'Suburb_New Gisborne', 'Suburb_Newport', 'Suburb_Niddrie', 'Suburb_Noble Park', 'Suburb_North Melbourne', 'Suburb_North Warrandyte', 'Suburb_Northcote', 'Suburb_Notting Hill', 'Suburb_Nunawading', 'Suburb_Oak Park', 'Suburb_Oakleigh', 'Suburb_Oakleigh East', 'Suburb_Oakleigh South', 'Suburb_Officer', 'Suburb_Ormond', 'Suburb_Pakenham', 'Suburb_Parkdale', 'Suburb_Parkville', 'Suburb_Pascoe Vale', 'Suburb_Patterson Lakes', 'Suburb_Plenty', 'Suburb_Plumpton', 'Suburb_Point Cook', 'Suburb_Port Melbourne', 'Suburb_Prahran', 'Suburb_Preston', 'Suburb_Princes Hill', 'Suburb_Research', 'Suburb_Reservoir', 'Suburb_Richmond', 'Suburb_Riddells Creek', 'Suburb_Ringwood', 'Suburb_Ringwood East', 'Suburb_Ringwood North', 'Suburb_Ripponlea', 'Suburb_Rockbank', 'Suburb_Rosanna', 'Suburb_Rowville', 'Suburb_Roxburgh Park', 'Suburb_Sandhurst', 'Suburb_Sandringham', 'Suburb_Scoresby', 'Suburb_Seabrook', 'Suburb_Seaford', 'Suburb_Seaholme', 'Suburb_Seddon', 'Suburb_Silvan', 'Suburb_Skye', 'Suburb_South Kingsville', 'Suburb_South Melbourne', 'Suburb_South Morang', 'Suburb_South Yarra', 'Suburb_Southbank', 'Suburb_Spotswood', 'Suburb_Springvale', 'Suburb_Springvale South', 'Suburb_St Albans', 'Suburb_St Helena', 'Suburb_St Kilda', 'Suburb_Strathmore', 'Suburb_Strathmore Heights', 'Suburb_Sunbury', 'Suburb_Sunshine', 'Suburb_Sunshine North', 'Suburb_Sunshine West', 'Suburb_Surrey Hills', 'Suburb_Sydenham', 'Suburb_Tarneit', 'Suburb_Taylors Hill', 'Suburb_Taylors Lakes', 'Suburb_Tecoma', 'Suburb_Templestowe', 'Suburb_Templestowe Lower', 'Suburb_The Basin', 'Suburb_Thomastown', 'Suburb_Thornbury', 'Suburb_Toorak', 'Suburb_Travancore', 'Suburb_Truganina', 'Suburb_Tullamarine', 'Suburb_Upwey', 'Suburb_Vermont', 'Suburb_Vermont South', 'Suburb_Viewbank', 'Suburb_Wallan', 'Suburb_Wandin North', 'Suburb_Wantirna', 'Suburb_Wantirna South', 'Suburb_Warrandyte', 'Suburb_Warranwood', 'Suburb_Waterways', 'Suburb_Watsonia', 'Suburb_Watsonia North', 'Suburb_Wattle Glen', 'Suburb_Werribee', 'Suburb_Werribee South', 'Suburb_West Footscray', 'Suburb_West Melbourne', 'Suburb_Westmeadows', 'Suburb_Wheelers Hill', 'Suburb_Whittlesea', 'Suburb_Wildwood', 'Suburb_Williams Landing', 'Suburb_Williamstown', 'Suburb_Williamstown North', 'Suburb_Windsor', 'Suburb_Wollert', 'Suburb_Wonga Park', 'Suburb_Wyndham Vale', 'Suburb_Yallambie', 'Suburb_Yarra Glen', 'Suburb_Yarraville', 'Suburb_croydon', 'Suburb_viewbank', 'Type_t', 'Type_u', 'Method_S', 'Method_SA', 'Method_SP', 'Method_VB', 'SellerG_AIME', 'SellerG_ASL', \"SellerG_Abercromby's\", 'SellerG_Ace', 'SellerG_Airport', 'SellerG_Alex', 'SellerG_Alexkarbon', 'SellerG_Allan', 'SellerG_Allens', 'SellerG_Anderson', 'SellerG_Appleby', 'SellerG_Aquire', 'SellerG_Area', 'SellerG_Ascend', 'SellerG_Ash', 'SellerG_Asset', 'SellerG_Assisi', 'SellerG_Aumeca', 'SellerG_Australian', 'SellerG_Avion', 'SellerG_Barlow', 'SellerG_Barry', 'SellerG_Batty', 'SellerG_Bayside', 'SellerG_Bekdon', 'SellerG_Beller', 'SellerG_Bells', 'SellerG_Benchmark', 'SellerG_Benlor', 'SellerG_Besser', 'SellerG_Better', 'SellerG_Biggin', 'SellerG_Black', 'SellerG_Blackbird', 'SellerG_Blue', 'SellerG_Bombay', 'SellerG_Boran', 'SellerG_Boutique', 'SellerG_Bowman', 'SellerG_Brace', 'SellerG_Brad', 'SellerG_Branon', 'SellerG_Buckingham', 'SellerG_Bullen', 'SellerG_Burnham', 'SellerG_Burns', 'SellerG_Bustin', 'SellerG_Buxton', 'SellerG_Buxton/Advantage', 'SellerG_Buxton/Buxton', 'SellerG_Buxton/Find', 'SellerG_Buxton/Marshall', 'SellerG_C21', 'SellerG_CASTRAN', 'SellerG_Caine', 'SellerG_Calder', 'SellerG_CarlinSmith', 'SellerG_Carter', 'SellerG_Castran', 'SellerG_Cayzer', 'SellerG_Century', 'SellerG_Chambers', 'SellerG_Changing', 'SellerG_Charlton', 'SellerG_Charter', 'SellerG_Chisholm', 'SellerG_Christopher', 'SellerG_Clairmont', 'SellerG_Collings', 'SellerG_Collins', 'SellerG_Commercial', 'SellerG_Community', 'SellerG_Compton', 'SellerG_Conquest', 'SellerG_Considine', 'SellerG_Coventry', 'SellerG_Craig', 'SellerG_Crane', 'SellerG_Create', \"SellerG_D'Aprano\", 'SellerG_Daniel', 'SellerG_Darras', 'SellerG_Darren', 'SellerG_David', 'SellerG_Del', 'SellerG_Dingle', 'SellerG_Direct', 'SellerG_Dixon', 'SellerG_Domain', 'SellerG_Donovan', 'SellerG_Douglas', 'SellerG_Edward', 'SellerG_Elite', 'SellerG_Eric', 'SellerG_Eview', 'SellerG_FN', 'SellerG_First', 'SellerG_Flannagan', 'SellerG_Fletchers', 'SellerG_Fletchers/Fletchers', 'SellerG_Fletchers/One', 'SellerG_Follett', 'SellerG_For', 'SellerG_Frank', 'SellerG_Free', 'SellerG_G&H', 'SellerG_GL', 'SellerG_Galldon', 'SellerG_Gardiner', 'SellerG_Garvey', 'SellerG_Gary', 'SellerG_Gellibrand', 'SellerG_Geoff', 'SellerG_Grantham', 'SellerG_Greg', 'SellerG_Gunn&Co', 'SellerG_H', 'SellerG_HAR', 'SellerG_Hall', 'SellerG_Ham', 'SellerG_Hamilton', 'SellerG_Harcourts', 'SellerG_Harrington', 'SellerG_Haughton', 'SellerG_Hayeswinckle', 'SellerG_Hodges', 'SellerG_Holland', 'SellerG_Home', 'SellerG_Homes', 'SellerG_Hooper', 'SellerG_Hoskins', 'SellerG_Hunter', 'SellerG_Icon', 'SellerG_Iconek', 'SellerG_J', 'SellerG_JMRE', 'SellerG_JRW', 'SellerG_JY', 'SellerG_Janice', 'SellerG_Jas', 'SellerG_Jason', 'SellerG_Jellis', 'SellerG_Jim', 'SellerG_Joe', 'SellerG_Johnston', 'SellerG_Joseph', 'SellerG_Just', 'SellerG_Justin', 'SellerG_K.R.Peters', 'SellerG_Karen', 'SellerG_Kay', 'SellerG_Kaye', 'SellerG_Keatings', 'SellerG_Kelly', 'SellerG_Ken', 'SellerG_L', 'SellerG_LITTLE', 'SellerG_LJ', 'SellerG_LJH', 'SellerG_LLC', 'SellerG_Langwell', 'SellerG_Le', 'SellerG_Leaders', 'SellerG_Leading', 'SellerG_Leased', 'SellerG_Leeburn', 'SellerG_Leyton', 'SellerG_Lindellas', 'SellerG_Love', 'SellerG_Lucas', 'SellerG_Luxe', 'SellerG_Luxton', 'SellerG_M.J', 'SellerG_MICM', 'SellerG_MJ', 'SellerG_Maddison', 'SellerG_Maitland', 'SellerG_Mandy', 'SellerG_Mark', 'SellerG_Marshall', 'SellerG_Mason', 'SellerG_Matthew', 'SellerG_Max', 'SellerG_McDonald', 'SellerG_McEwing', 'SellerG_McGrath', 'SellerG_McGrath/First', 'SellerG_McGrath/Langwell', 'SellerG_McLennan', 'SellerG_McNaughton', 'SellerG_Meadows', 'SellerG_Meallin', 'SellerG_Mega', 'SellerG_Melbourne', 'SellerG_Metro', 'SellerG_Miles', 'SellerG_Millership', 'SellerG_Mindacom', 'SellerG_Mitchell', 'SellerG_Moonee', 'SellerG_Morleys', 'SellerG_Morrison', 'SellerG_Munn', 'SellerG_Naison', 'SellerG_Nardella', 'SellerG_Nelson', 'SellerG_New', 'SellerG_Nguyen', 'SellerG_Nicholas', 'SellerG_Nicholls', 'SellerG_Nicholson', 'SellerG_Nick', 'SellerG_Noel', 'SellerG_North', \"SellerG_O'Brien\", \"SellerG_O'Donoghues\", 'SellerG_OBrien', 'SellerG_Oak', 'SellerG_Obrien', 'SellerG_One', 'SellerG_Only', 'SellerG_Open', 'SellerG_Oriental', 'SellerG_Owen', 'SellerG_P', 'SellerG_PRD', 'SellerG_PRDNationwide', 'SellerG_PSP', 'SellerG_Pagan', 'SellerG_Parkes', 'SellerG_Parkinson', 'SellerG_Paul', 'SellerG_Peake', 'SellerG_People', 'SellerG_Peter', 'SellerG_Philip', 'SellerG_Point', 'SellerG_Pride', 'SellerG_Prime', \"SellerG_Private/Tiernan's\", 'SellerG_Prof.', 'SellerG_Professionals', 'SellerG_Property', 'SellerG_Propertyau', 'SellerG_Prowse', 'SellerG_Purplebricks', 'SellerG_Quinta', 'SellerG_R&H', 'SellerG_RE', 'SellerG_REMAX', 'SellerG_RT', 'SellerG_RW', 'SellerG_Raine', 'SellerG_Raine&Horne', 'SellerG_Ray', 'SellerG_Re', 'SellerG_Reach', 'SellerG_Real', 'SellerG_Red', 'SellerG_Redina', 'SellerG_Reed', 'SellerG_Reliance', 'SellerG_Rendina', 'SellerG_Rexhepi', 'SellerG_Ristic', 'SellerG_Rodney', 'SellerG_Roger', 'SellerG_Rombotis', 'SellerG_Rosin', 'SellerG_Ross', 'SellerG_Rounds', 'SellerG_Ryder', 'SellerG_S&L', 'SellerG_SN', 'SellerG_Sanctuary', 'SellerG_Sandhurst', 'SellerG_Schroeder', 'SellerG_Scott', 'SellerG_Sell', 'SellerG_Shape', 'SellerG_Skad', 'SellerG_Smart', \"SellerG_Sotheby's\", 'SellerG_Space', 'SellerG_Spencer', 'SellerG_Steller', 'SellerG_Steveway', 'SellerG_Stockdale', 'SellerG_Surreal', 'SellerG_Sweeney', 'SellerG_Sweeney/Advantage', 'SellerG_Sweeney/Burnham', 'SellerG_T', 'SellerG_TRUE', 'SellerG_The', 'SellerG_Thomas', 'SellerG_Thomson', \"SellerG_Tiernan's\", 'SellerG_Tim', 'SellerG_Trimson', 'SellerG_Triwest', 'SellerG_U', 'SellerG_Unity', 'SellerG_Upper', 'SellerG_Upside', 'SellerG_VICPROP', 'SellerG_VICProp', 'SellerG_Veitch', 'SellerG_Vic', 'SellerG_VicHomes', 'SellerG_Victory', 'SellerG_Village', 'SellerG_W.B.', 'SellerG_WHITEFOX', 'SellerG_Walsh', 'SellerG_Walshe', 'SellerG_Weast', 'SellerG_Weda', 'SellerG_Weston', 'SellerG_Westside', 'SellerG_White', 'SellerG_Whiting', 'SellerG_William', 'SellerG_Williams', 'SellerG_Wilson', 'SellerG_Win', 'SellerG_Wood', 'SellerG_Woodards', 'SellerG_Wyndham', 'SellerG_Xynergy', 'SellerG_YPA', 'SellerG_Zahn', 'SellerG_buyMyplace', 'SellerG_hockingstuart', 'SellerG_hockingstuart/Advantage', 'SellerG_hockingstuart/Barry', 'SellerG_hockingstuart/Biggin', 'SellerG_hockingstuart/Buxton', 'SellerG_hockingstuart/Harcourts', 'SellerG_hockingstuart/Marshall', 'SellerG_hockingstuart/Sweeney', 'SellerG_hockingstuart/Village', 'SellerG_hockingstuart/hockingstuart', 'SellerG_iHomes', 'SellerG_iOne', 'SellerG_iProperty', 'SellerG_iSell', 'SellerG_iTRAK', 'CouncilArea_Bayside City Council', 'CouncilArea_Boroondara City Council', 'CouncilArea_Brimbank City Council', 'CouncilArea_Cardinia Shire Council', 'CouncilArea_Casey City Council', 'CouncilArea_Darebin City Council', 'CouncilArea_Frankston City Council', 'CouncilArea_Glen Eira City Council', 'CouncilArea_Greater Dandenong City Council', 'CouncilArea_Hobsons Bay City Council', 'CouncilArea_Hume City Council', 'CouncilArea_Kingston City Council', 'CouncilArea_Knox City Council', 'CouncilArea_Macedon Ranges Shire Council', 'CouncilArea_Manningham City Council', 'CouncilArea_Maribyrnong City Council', 'CouncilArea_Maroondah City Council', 'CouncilArea_Melbourne City Council', 'CouncilArea_Melton City Council', 'CouncilArea_Mitchell Shire Council', 'CouncilArea_Monash City Council', 'CouncilArea_Moonee Valley City Council', 'CouncilArea_Moorabool Shire Council', 'CouncilArea_Moreland City Council', 'CouncilArea_Nillumbik Shire Council', 'CouncilArea_Port Phillip City Council', 'CouncilArea_Stonnington City Council', 'CouncilArea_Whitehorse City Council', 'CouncilArea_Whittlesea City Council', 'CouncilArea_Wyndham City Council', 'CouncilArea_Yarra City Council', 'CouncilArea_Yarra Ranges Shire Council', 'Regionname_Eastern Victoria', 'Regionname_Northern Metropolitan', 'Regionname_Northern Victoria', 'Regionname_South-Eastern Metropolitan', 'Regionname_Southern Metropolitan', 'Regionname_Western Metropolitan', 'Regionname_Western Victoria']\n"
     ]
    }
   ],
   "source": [
    "print(data.columns.to_list())"
   ]
  },
  {
   "cell_type": "markdown",
   "id": "26aba42f",
   "metadata": {},
   "source": [
    "\n",
    "inputs = data.drop('Price', axis = 'columns')"
   ]
  },
  {
   "cell_type": "code",
   "execution_count": 138,
   "id": "c63b3e7b",
   "metadata": {},
   "outputs": [],
   "source": [
    "from sklearn.model_selection import train_test_split\n",
    "x_train, x_test, y_train, y_test, = train_test_split(inputs, target, test_size=0.3, random_state=2)"
   ]
  },
  {
   "cell_type": "markdown",
   "id": "ab74723e",
   "metadata": {},
   "source": [
    "# apply linear Regression"
   ]
  },
  {
   "cell_type": "code",
   "execution_count": 139,
   "id": "a101ac62",
   "metadata": {},
   "outputs": [
    {
     "data": {
      "text/html": [
       "<style>#sk-container-id-3 {color: black;background-color: white;}#sk-container-id-3 pre{padding: 0;}#sk-container-id-3 div.sk-toggleable {background-color: white;}#sk-container-id-3 label.sk-toggleable__label {cursor: pointer;display: block;width: 100%;margin-bottom: 0;padding: 0.3em;box-sizing: border-box;text-align: center;}#sk-container-id-3 label.sk-toggleable__label-arrow:before {content: \"▸\";float: left;margin-right: 0.25em;color: #696969;}#sk-container-id-3 label.sk-toggleable__label-arrow:hover:before {color: black;}#sk-container-id-3 div.sk-estimator:hover label.sk-toggleable__label-arrow:before {color: black;}#sk-container-id-3 div.sk-toggleable__content {max-height: 0;max-width: 0;overflow: hidden;text-align: left;background-color: #f0f8ff;}#sk-container-id-3 div.sk-toggleable__content pre {margin: 0.2em;color: black;border-radius: 0.25em;background-color: #f0f8ff;}#sk-container-id-3 input.sk-toggleable__control:checked~div.sk-toggleable__content {max-height: 200px;max-width: 100%;overflow: auto;}#sk-container-id-3 input.sk-toggleable__control:checked~label.sk-toggleable__label-arrow:before {content: \"▾\";}#sk-container-id-3 div.sk-estimator input.sk-toggleable__control:checked~label.sk-toggleable__label {background-color: #d4ebff;}#sk-container-id-3 div.sk-label input.sk-toggleable__control:checked~label.sk-toggleable__label {background-color: #d4ebff;}#sk-container-id-3 input.sk-hidden--visually {border: 0;clip: rect(1px 1px 1px 1px);clip: rect(1px, 1px, 1px, 1px);height: 1px;margin: -1px;overflow: hidden;padding: 0;position: absolute;width: 1px;}#sk-container-id-3 div.sk-estimator {font-family: monospace;background-color: #f0f8ff;border: 1px dotted black;border-radius: 0.25em;box-sizing: border-box;margin-bottom: 0.5em;}#sk-container-id-3 div.sk-estimator:hover {background-color: #d4ebff;}#sk-container-id-3 div.sk-parallel-item::after {content: \"\";width: 100%;border-bottom: 1px solid gray;flex-grow: 1;}#sk-container-id-3 div.sk-label:hover label.sk-toggleable__label {background-color: #d4ebff;}#sk-container-id-3 div.sk-serial::before {content: \"\";position: absolute;border-left: 1px solid gray;box-sizing: border-box;top: 0;bottom: 0;left: 50%;z-index: 0;}#sk-container-id-3 div.sk-serial {display: flex;flex-direction: column;align-items: center;background-color: white;padding-right: 0.2em;padding-left: 0.2em;position: relative;}#sk-container-id-3 div.sk-item {position: relative;z-index: 1;}#sk-container-id-3 div.sk-parallel {display: flex;align-items: stretch;justify-content: center;background-color: white;position: relative;}#sk-container-id-3 div.sk-item::before, #sk-container-id-3 div.sk-parallel-item::before {content: \"\";position: absolute;border-left: 1px solid gray;box-sizing: border-box;top: 0;bottom: 0;left: 50%;z-index: -1;}#sk-container-id-3 div.sk-parallel-item {display: flex;flex-direction: column;z-index: 1;position: relative;background-color: white;}#sk-container-id-3 div.sk-parallel-item:first-child::after {align-self: flex-end;width: 50%;}#sk-container-id-3 div.sk-parallel-item:last-child::after {align-self: flex-start;width: 50%;}#sk-container-id-3 div.sk-parallel-item:only-child::after {width: 0;}#sk-container-id-3 div.sk-dashed-wrapped {border: 1px dashed gray;margin: 0 0.4em 0.5em 0.4em;box-sizing: border-box;padding-bottom: 0.4em;background-color: white;}#sk-container-id-3 div.sk-label label {font-family: monospace;font-weight: bold;display: inline-block;line-height: 1.2em;}#sk-container-id-3 div.sk-label-container {text-align: center;}#sk-container-id-3 div.sk-container {/* jupyter's `normalize.less` sets `[hidden] { display: none; }` but bootstrap.min.css set `[hidden] { display: none !important; }` so we also need the `!important` here to be able to override the default hidden behavior on the sphinx rendered scikit-learn.org. See: https://github.com/scikit-learn/scikit-learn/issues/21755 */display: inline-block !important;position: relative;}#sk-container-id-3 div.sk-text-repr-fallback {display: none;}</style><div id=\"sk-container-id-3\" class=\"sk-top-container\"><div class=\"sk-text-repr-fallback\"><pre>LinearRegression()</pre><b>In a Jupyter environment, please rerun this cell to show the HTML representation or trust the notebook. <br />On GitHub, the HTML representation is unable to render, please try loading this page with nbviewer.org.</b></div><div class=\"sk-container\" hidden><div class=\"sk-item\"><div class=\"sk-estimator sk-toggleable\"><input class=\"sk-toggleable__control sk-hidden--visually\" id=\"sk-estimator-id-3\" type=\"checkbox\" checked><label for=\"sk-estimator-id-3\" class=\"sk-toggleable__label sk-toggleable__label-arrow\">LinearRegression</label><div class=\"sk-toggleable__content\"><pre>LinearRegression()</pre></div></div></div></div></div>"
      ],
      "text/plain": [
       "LinearRegression()"
      ]
     },
     "execution_count": 139,
     "metadata": {},
     "output_type": "execute_result"
    }
   ],
   "source": [
    "from sklearn.linear_model import LinearRegression\n",
    "lr_model = LinearRegression()\n",
    "lr_model.fit(x_train, y_train)\n"
   ]
  },
  {
   "cell_type": "code",
   "execution_count": 140,
   "id": "f595ee61",
   "metadata": {},
   "outputs": [
    {
     "data": {
      "text/plain": [
       "0.138536831616211"
      ]
     },
     "execution_count": 140,
     "metadata": {},
     "output_type": "execute_result"
    }
   ],
   "source": [
    "lr_model.score(x_test, y_test)"
   ]
  },
  {
   "cell_type": "code",
   "execution_count": 158,
   "id": "c971a016",
   "metadata": {},
   "outputs": [
    {
     "data": {
      "text/plain": [
       "0.6827792395792723"
      ]
     },
     "execution_count": 158,
     "metadata": {},
     "output_type": "execute_result"
    }
   ],
   "source": [
    "lr_model.score(x_train, y_train)\n",
    "\n"
   ]
  },
  {
   "cell_type": "markdown",
   "id": "ef150f1d",
   "metadata": {},
   "source": [
    "## The model is overfitted \n",
    "### Let's apply L1 & l2 regression"
   ]
  },
  {
   "cell_type": "code",
   "execution_count": 167,
   "id": "f5d187e4",
   "metadata": {},
   "outputs": [
    {
     "data": {
      "text/html": [
       "<style>#sk-container-id-8 {color: black;background-color: white;}#sk-container-id-8 pre{padding: 0;}#sk-container-id-8 div.sk-toggleable {background-color: white;}#sk-container-id-8 label.sk-toggleable__label {cursor: pointer;display: block;width: 100%;margin-bottom: 0;padding: 0.3em;box-sizing: border-box;text-align: center;}#sk-container-id-8 label.sk-toggleable__label-arrow:before {content: \"▸\";float: left;margin-right: 0.25em;color: #696969;}#sk-container-id-8 label.sk-toggleable__label-arrow:hover:before {color: black;}#sk-container-id-8 div.sk-estimator:hover label.sk-toggleable__label-arrow:before {color: black;}#sk-container-id-8 div.sk-toggleable__content {max-height: 0;max-width: 0;overflow: hidden;text-align: left;background-color: #f0f8ff;}#sk-container-id-8 div.sk-toggleable__content pre {margin: 0.2em;color: black;border-radius: 0.25em;background-color: #f0f8ff;}#sk-container-id-8 input.sk-toggleable__control:checked~div.sk-toggleable__content {max-height: 200px;max-width: 100%;overflow: auto;}#sk-container-id-8 input.sk-toggleable__control:checked~label.sk-toggleable__label-arrow:before {content: \"▾\";}#sk-container-id-8 div.sk-estimator input.sk-toggleable__control:checked~label.sk-toggleable__label {background-color: #d4ebff;}#sk-container-id-8 div.sk-label input.sk-toggleable__control:checked~label.sk-toggleable__label {background-color: #d4ebff;}#sk-container-id-8 input.sk-hidden--visually {border: 0;clip: rect(1px 1px 1px 1px);clip: rect(1px, 1px, 1px, 1px);height: 1px;margin: -1px;overflow: hidden;padding: 0;position: absolute;width: 1px;}#sk-container-id-8 div.sk-estimator {font-family: monospace;background-color: #f0f8ff;border: 1px dotted black;border-radius: 0.25em;box-sizing: border-box;margin-bottom: 0.5em;}#sk-container-id-8 div.sk-estimator:hover {background-color: #d4ebff;}#sk-container-id-8 div.sk-parallel-item::after {content: \"\";width: 100%;border-bottom: 1px solid gray;flex-grow: 1;}#sk-container-id-8 div.sk-label:hover label.sk-toggleable__label {background-color: #d4ebff;}#sk-container-id-8 div.sk-serial::before {content: \"\";position: absolute;border-left: 1px solid gray;box-sizing: border-box;top: 0;bottom: 0;left: 50%;z-index: 0;}#sk-container-id-8 div.sk-serial {display: flex;flex-direction: column;align-items: center;background-color: white;padding-right: 0.2em;padding-left: 0.2em;position: relative;}#sk-container-id-8 div.sk-item {position: relative;z-index: 1;}#sk-container-id-8 div.sk-parallel {display: flex;align-items: stretch;justify-content: center;background-color: white;position: relative;}#sk-container-id-8 div.sk-item::before, #sk-container-id-8 div.sk-parallel-item::before {content: \"\";position: absolute;border-left: 1px solid gray;box-sizing: border-box;top: 0;bottom: 0;left: 50%;z-index: -1;}#sk-container-id-8 div.sk-parallel-item {display: flex;flex-direction: column;z-index: 1;position: relative;background-color: white;}#sk-container-id-8 div.sk-parallel-item:first-child::after {align-self: flex-end;width: 50%;}#sk-container-id-8 div.sk-parallel-item:last-child::after {align-self: flex-start;width: 50%;}#sk-container-id-8 div.sk-parallel-item:only-child::after {width: 0;}#sk-container-id-8 div.sk-dashed-wrapped {border: 1px dashed gray;margin: 0 0.4em 0.5em 0.4em;box-sizing: border-box;padding-bottom: 0.4em;background-color: white;}#sk-container-id-8 div.sk-label label {font-family: monospace;font-weight: bold;display: inline-block;line-height: 1.2em;}#sk-container-id-8 div.sk-label-container {text-align: center;}#sk-container-id-8 div.sk-container {/* jupyter's `normalize.less` sets `[hidden] { display: none; }` but bootstrap.min.css set `[hidden] { display: none !important; }` so we also need the `!important` here to be able to override the default hidden behavior on the sphinx rendered scikit-learn.org. See: https://github.com/scikit-learn/scikit-learn/issues/21755 */display: inline-block !important;position: relative;}#sk-container-id-8 div.sk-text-repr-fallback {display: none;}</style><div id=\"sk-container-id-8\" class=\"sk-top-container\"><div class=\"sk-text-repr-fallback\"><pre>Lasso(alpha=50, max_iter=100, tol=0.1)</pre><b>In a Jupyter environment, please rerun this cell to show the HTML representation or trust the notebook. <br />On GitHub, the HTML representation is unable to render, please try loading this page with nbviewer.org.</b></div><div class=\"sk-container\" hidden><div class=\"sk-item\"><div class=\"sk-estimator sk-toggleable\"><input class=\"sk-toggleable__control sk-hidden--visually\" id=\"sk-estimator-id-8\" type=\"checkbox\" checked><label for=\"sk-estimator-id-8\" class=\"sk-toggleable__label sk-toggleable__label-arrow\">Lasso</label><div class=\"sk-toggleable__content\"><pre>Lasso(alpha=50, max_iter=100, tol=0.1)</pre></div></div></div></div></div>"
      ],
      "text/plain": [
       "Lasso(alpha=50, max_iter=100, tol=0.1)"
      ]
     },
     "execution_count": 167,
     "metadata": {},
     "output_type": "execute_result"
    }
   ],
   "source": [
    "from sklearn import linear_model\n",
    "lasso_model = linear_model.Lasso(alpha=50, max_iter=100, tol=0.1)\n",
    "lasso_model.fit(x_train, y_train)"
   ]
  },
  {
   "cell_type": "code",
   "execution_count": 168,
   "id": "b2b74280",
   "metadata": {},
   "outputs": [
    {
     "data": {
      "text/plain": [
       "0.6637669697137102"
      ]
     },
     "execution_count": 168,
     "metadata": {},
     "output_type": "execute_result"
    }
   ],
   "source": [
    "lasso_model.score(x_test, y_test)"
   ]
  },
  {
   "cell_type": "code",
   "execution_count": 169,
   "id": "0c4f61cd",
   "metadata": {},
   "outputs": [
    {
     "data": {
      "text/plain": [
       "0.6767356948457685"
      ]
     },
     "execution_count": 169,
     "metadata": {},
     "output_type": "execute_result"
    }
   ],
   "source": [
    "lasso_model.score(x_train, y_train)"
   ]
  },
  {
   "cell_type": "code",
   "execution_count": 171,
   "id": "ba75a4b6",
   "metadata": {},
   "outputs": [
    {
     "data": {
      "text/html": [
       "<style>#sk-container-id-9 {color: black;background-color: white;}#sk-container-id-9 pre{padding: 0;}#sk-container-id-9 div.sk-toggleable {background-color: white;}#sk-container-id-9 label.sk-toggleable__label {cursor: pointer;display: block;width: 100%;margin-bottom: 0;padding: 0.3em;box-sizing: border-box;text-align: center;}#sk-container-id-9 label.sk-toggleable__label-arrow:before {content: \"▸\";float: left;margin-right: 0.25em;color: #696969;}#sk-container-id-9 label.sk-toggleable__label-arrow:hover:before {color: black;}#sk-container-id-9 div.sk-estimator:hover label.sk-toggleable__label-arrow:before {color: black;}#sk-container-id-9 div.sk-toggleable__content {max-height: 0;max-width: 0;overflow: hidden;text-align: left;background-color: #f0f8ff;}#sk-container-id-9 div.sk-toggleable__content pre {margin: 0.2em;color: black;border-radius: 0.25em;background-color: #f0f8ff;}#sk-container-id-9 input.sk-toggleable__control:checked~div.sk-toggleable__content {max-height: 200px;max-width: 100%;overflow: auto;}#sk-container-id-9 input.sk-toggleable__control:checked~label.sk-toggleable__label-arrow:before {content: \"▾\";}#sk-container-id-9 div.sk-estimator input.sk-toggleable__control:checked~label.sk-toggleable__label {background-color: #d4ebff;}#sk-container-id-9 div.sk-label input.sk-toggleable__control:checked~label.sk-toggleable__label {background-color: #d4ebff;}#sk-container-id-9 input.sk-hidden--visually {border: 0;clip: rect(1px 1px 1px 1px);clip: rect(1px, 1px, 1px, 1px);height: 1px;margin: -1px;overflow: hidden;padding: 0;position: absolute;width: 1px;}#sk-container-id-9 div.sk-estimator {font-family: monospace;background-color: #f0f8ff;border: 1px dotted black;border-radius: 0.25em;box-sizing: border-box;margin-bottom: 0.5em;}#sk-container-id-9 div.sk-estimator:hover {background-color: #d4ebff;}#sk-container-id-9 div.sk-parallel-item::after {content: \"\";width: 100%;border-bottom: 1px solid gray;flex-grow: 1;}#sk-container-id-9 div.sk-label:hover label.sk-toggleable__label {background-color: #d4ebff;}#sk-container-id-9 div.sk-serial::before {content: \"\";position: absolute;border-left: 1px solid gray;box-sizing: border-box;top: 0;bottom: 0;left: 50%;z-index: 0;}#sk-container-id-9 div.sk-serial {display: flex;flex-direction: column;align-items: center;background-color: white;padding-right: 0.2em;padding-left: 0.2em;position: relative;}#sk-container-id-9 div.sk-item {position: relative;z-index: 1;}#sk-container-id-9 div.sk-parallel {display: flex;align-items: stretch;justify-content: center;background-color: white;position: relative;}#sk-container-id-9 div.sk-item::before, #sk-container-id-9 div.sk-parallel-item::before {content: \"\";position: absolute;border-left: 1px solid gray;box-sizing: border-box;top: 0;bottom: 0;left: 50%;z-index: -1;}#sk-container-id-9 div.sk-parallel-item {display: flex;flex-direction: column;z-index: 1;position: relative;background-color: white;}#sk-container-id-9 div.sk-parallel-item:first-child::after {align-self: flex-end;width: 50%;}#sk-container-id-9 div.sk-parallel-item:last-child::after {align-self: flex-start;width: 50%;}#sk-container-id-9 div.sk-parallel-item:only-child::after {width: 0;}#sk-container-id-9 div.sk-dashed-wrapped {border: 1px dashed gray;margin: 0 0.4em 0.5em 0.4em;box-sizing: border-box;padding-bottom: 0.4em;background-color: white;}#sk-container-id-9 div.sk-label label {font-family: monospace;font-weight: bold;display: inline-block;line-height: 1.2em;}#sk-container-id-9 div.sk-label-container {text-align: center;}#sk-container-id-9 div.sk-container {/* jupyter's `normalize.less` sets `[hidden] { display: none; }` but bootstrap.min.css set `[hidden] { display: none !important; }` so we also need the `!important` here to be able to override the default hidden behavior on the sphinx rendered scikit-learn.org. See: https://github.com/scikit-learn/scikit-learn/issues/21755 */display: inline-block !important;position: relative;}#sk-container-id-9 div.sk-text-repr-fallback {display: none;}</style><div id=\"sk-container-id-9\" class=\"sk-top-container\"><div class=\"sk-text-repr-fallback\"><pre>Ridge(alpha=50, max_iter=100, tol=0.1)</pre><b>In a Jupyter environment, please rerun this cell to show the HTML representation or trust the notebook. <br />On GitHub, the HTML representation is unable to render, please try loading this page with nbviewer.org.</b></div><div class=\"sk-container\" hidden><div class=\"sk-item\"><div class=\"sk-estimator sk-toggleable\"><input class=\"sk-toggleable__control sk-hidden--visually\" id=\"sk-estimator-id-9\" type=\"checkbox\" checked><label for=\"sk-estimator-id-9\" class=\"sk-toggleable__label sk-toggleable__label-arrow\">Ridge</label><div class=\"sk-toggleable__content\"><pre>Ridge(alpha=50, max_iter=100, tol=0.1)</pre></div></div></div></div></div>"
      ],
      "text/plain": [
       "Ridge(alpha=50, max_iter=100, tol=0.1)"
      ]
     },
     "execution_count": 171,
     "metadata": {},
     "output_type": "execute_result"
    }
   ],
   "source": [
    "from sklearn.linear_model import Ridge\n",
    "ridge_model = Ridge(alpha=50, max_iter=100, tol=0.1)\n",
    "ridge_model.fit(x_train, y_train)\n"
   ]
  },
  {
   "cell_type": "code",
   "execution_count": 172,
   "id": "8c952090",
   "metadata": {},
   "outputs": [
    {
     "data": {
      "text/plain": [
       "0.6670848945194958"
      ]
     },
     "execution_count": 172,
     "metadata": {},
     "output_type": "execute_result"
    }
   ],
   "source": [
    "ridge_model.score(x_test, y_test)"
   ]
  },
  {
   "cell_type": "code",
   "execution_count": 173,
   "id": "af3b97e7",
   "metadata": {},
   "outputs": [
    {
     "data": {
      "text/plain": [
       "0.6622376739684328"
      ]
     },
     "execution_count": 173,
     "metadata": {},
     "output_type": "execute_result"
    }
   ],
   "source": [
    "ridge_model.score(x_train, y_train)"
   ]
  }
 ],
 "metadata": {
  "kernelspec": {
   "display_name": "Python 3 (ipykernel)",
   "language": "python",
   "name": "python3"
  },
  "language_info": {
   "codemirror_mode": {
    "name": "ipython",
    "version": 3
   },
   "file_extension": ".py",
   "mimetype": "text/x-python",
   "name": "python",
   "nbconvert_exporter": "python",
   "pygments_lexer": "ipython3",
   "version": "3.11.7"
  }
 },
 "nbformat": 4,
 "nbformat_minor": 5
}
